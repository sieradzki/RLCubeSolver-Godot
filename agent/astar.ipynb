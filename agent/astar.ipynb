{
 "cells": [
  {
   "cell_type": "code",
   "execution_count": 1,
   "metadata": {},
   "outputs": [
    {
     "name": "stdout",
     "output_type": "stream",
     "text": [
      "Using device: cuda\n"
     ]
    }
   ],
   "source": [
    "import heapq\n",
    "import matplotlib.pyplot as plt\n",
    "import torch\n",
    "import json\n",
    "import random\n",
    "from torch.utils.data import Dataset\n",
    "from value_network import ValueNetwork\n",
    "from value_network import CubeDataset\n",
    "from environment import RubiksCubeEnv\n",
    "import time\n",
    "from tqdm import tqdm"
   ]
  },
  {
   "cell_type": "code",
   "execution_count": 19,
   "metadata": {},
   "outputs": [],
   "source": [
    "device = torch.device(\"cuda\" if torch.cuda.is_available() else \"cpu\")"
   ]
  },
  {
   "cell_type": "code",
   "execution_count": 2,
   "metadata": {},
   "outputs": [],
   "source": [
    "def one_hot_encode(cube_state):\n",
    "  # Convert the cube state to the input format expected by the model\n",
    "  state_oh = []\n",
    "\n",
    "  # Iterate over each face's colors\n",
    "  for face in cube_state:\n",
    "    for pair in face:\n",
    "      for color in pair:\n",
    "        # Create a one-hot encoded vector for this color\n",
    "        color_oh = [0] * 6\n",
    "        color_oh[color] = 1\n",
    "        state_oh.extend(color_oh)\n",
    "\n",
    "  return torch.tensor(state_oh, dtype=torch.float)\n",
    "\n",
    "\n",
    "def one_hot_decode(encoded_state):\n",
    "  # Convert the one-hot encoded tensor back to the original cube state\n",
    "  decoded_state = []\n",
    "  for i in range(0, len(encoded_state), 6):\n",
    "    color_vector = encoded_state[i:i + 6]\n",
    "    color = torch.argmax(color_vector).item()\n",
    "    decoded_state.append(color)\n",
    "\n",
    "  # Group the colors back into the original cube structure\n",
    "  original_state = []\n",
    "  for i in range(0, len(decoded_state), 4):\n",
    "    face_colors = decoded_state[i:i + 4]\n",
    "    original_state.append([face_colors[j:j + 2] for j in range(0, 4, 2)])\n",
    "\n",
    "  return original_state\n",
    "\n",
    "\n",
    "def heuristic(cube_state, model):\n",
    "  \"\"\" Estimate the cost to solve the cube from the given state using the given model \"\"\"\n",
    "  # state_oh = one_hot_encode(cube_state)\n",
    "  # Add batch dimension and move to device\n",
    "  state_oh = cube_state.unsqueeze(0).to(device)\n",
    "\n",
    "  with torch.no_grad():\n",
    "    cost_estimate = model(state_oh).item()  # Get the heuristic value\n",
    "  return cost_estimate"
   ]
  },
  {
   "cell_type": "code",
   "execution_count": 3,
   "metadata": {},
   "outputs": [],
   "source": [
    "def reconstruct_path(came_from, current_state):\n",
    "  \"\"\" Reconstruct the path from the start state to the current state using the came_from dictionary\"\"\"\n",
    "  total_path = [current_state]\n",
    "  while current_state in came_from:\n",
    "    current_state, action = came_from[current_state]\n",
    "    # Prepend action because we are tracing back the path\n",
    "    total_path.insert(0, action)\n",
    "  return total_path\n",
    "\n",
    "\n",
    "def generate_all_possible_actions(cube_size):\n",
    "  \"\"\" Generate all possible actions for the given cube size \"\"\"\n",
    "  actions = []\n",
    "  for side in [0, 1]:\n",
    "    for layer in range(cube_size):\n",
    "      for angle in [0, 1]:\n",
    "        action = (side, layer, angle)\n",
    "        actions.append(action)\n",
    "\n",
    "  return actions\n",
    "\n",
    "\n",
    "def reverse_move(action):\n",
    "  \"\"\" Reverse the given action \"\"\"\n",
    "  return (action[0], action[1], 1 - action[2])"
   ]
  },
  {
   "cell_type": "code",
   "execution_count": 5,
   "metadata": {},
   "outputs": [],
   "source": [
    "def astar_search(model, env, initial_scramble=2, max_explored_states=200, lambda_weight=1):\n",
    "  \"\"\" Perform an A* search to solve the cube from the given state using the given model\n",
    "  lambda_weight is a parameter that can be used to adjust the weight of the heuristic in the f score\n",
    "  to control the tradeoff between the heuristic and the cost to reach the current state.\n",
    "  \"\"\"\n",
    "  env.reset(0)\n",
    "  initial_actions = []\n",
    "\n",
    "  # Scramble the cube with random actions\n",
    "  for _ in range(initial_scramble):\n",
    "    action = random.choice(generate_all_possible_actions(env.cube_size))\n",
    "    env.step(action)\n",
    "    initial_actions.append(action)\n",
    "\n",
    "  initial_state = env.get_state()\n",
    "  initial_state_encoded = one_hot_encode(initial_state)\n",
    "  initial_path = []\n",
    "\n",
    "  # Initialize the open and closed sets\n",
    "  open_set = set([tuple(initial_state_encoded.tolist())])\n",
    "  closed_set = set()\n",
    "\n",
    "  # Initialize the g and f scores for each state\n",
    "  g_score = {tuple(initial_state_encoded.tolist()): 0}\n",
    "  f_score = {tuple(initial_state_encoded.tolist()): heuristic(\n",
    "    initial_state_encoded, model) * lambda_weight}\n",
    "  came_from = {tuple(initial_state_encoded.tolist()): initial_path}\n",
    "\n",
    "  explored_states_count = 0\n",
    "\n",
    "  while open_set and explored_states_count < max_explored_states:\n",
    "    explored_states_count += 1\n",
    "    current_encoded = min(open_set, key=lambda o: f_score[o])\n",
    "    current_path = came_from[current_encoded]\n",
    "\n",
    "    # Reset to the initial state and reapply the actions to get to the current state\n",
    "    env.reset(0)\n",
    "    for action in initial_actions + current_path:\n",
    "      env.step(action)\n",
    "\n",
    "    # Check if the current state is the goal state\n",
    "    if env.is_solved(env.get_state()):\n",
    "      return current_path\n",
    "\n",
    "    open_set.remove(current_encoded)\n",
    "    closed_set.add(current_encoded)\n",
    "\n",
    "    # Generate all possible actions and apply them to the current state\n",
    "    for action in generate_all_possible_actions(env.cube_size):\n",
    "      env.step(action)\n",
    "      new_state = env.get_state()\n",
    "      new_state_encoded = one_hot_encode(new_state)\n",
    "      new_path = current_path + [action]\n",
    "\n",
    "      if tuple(new_state_encoded.tolist()) in closed_set:\n",
    "        env.step(reverse_move(action))  # Reverse the action to undo it\n",
    "        continue\n",
    "\n",
    "      tentative_g_score = g_score[current_encoded] + 1\n",
    "      tentative_f_score = tentative_g_score + \\\n",
    "          heuristic(new_state_encoded, model) * lambda_weight\n",
    "\n",
    "      # If the new state is not in the open set or the new path has a lower f score, update the open set and scores\n",
    "      if tuple(new_state_encoded.tolist()) not in open_set or tentative_f_score < f_score.get(tuple(new_state_encoded.tolist()), float('inf')):\n",
    "        open_set.add(tuple(new_state_encoded.tolist()))\n",
    "        came_from[tuple(new_state_encoded.tolist())] = new_path\n",
    "        g_score[tuple(new_state_encoded.tolist())] = tentative_g_score\n",
    "        f_score[tuple(new_state_encoded.tolist())] = tentative_f_score\n",
    "\n",
    "      env.step(reverse_move(action))  # Reverse the action to undo it\n",
    "\n",
    "  print(\"Reached maximum number of explored states without finding a solution.\")\n",
    "  return None"
   ]
  },
  {
   "cell_type": "code",
   "execution_count": 20,
   "metadata": {},
   "outputs": [],
   "source": [
    "def test_astar(model_paths, cube_sizes, costs_to_go, env_setup):\n",
    "  \"\"\" Test the A* search algorithm with the given model paths, cube sizes, and costs_to_go\"\"\"\n",
    "  solve_rates = {size: [] for size in cube_sizes}\n",
    "  move_counts = {size: [] for size in cube_sizes}\n",
    "\n",
    "  for size in cube_sizes:\n",
    "    network_path = model_paths[size]\n",
    "    if size == 2:\n",
    "      model = ValueNetwork(144).to(device)\n",
    "      costs_to_go = range(0, 12)\n",
    "    elif size == 3:\n",
    "      model = ValueNetwork(324).to(device)\n",
    "      costs_to_go = range(0, 15)\n",
    "    elif size == 4:\n",
    "      model = ValueNetwork(576).to(device)\n",
    "      costs_to_go = range(0, 15)\n",
    "    model.load_state_dict(torch.load(network_path, map_location=device))\n",
    "    model.eval()\n",
    "    env = RubiksCubeEnv(**env_setup, cube_size=size)\n",
    "\n",
    "    for cost_to_go in costs_to_go:\n",
    "      print(f\"Testing {size}x{size}x{size} cube with cost_to_go {cost_to_go}\")\n",
    "      solve_count = 0\n",
    "      total_moves = 0\n",
    "      attempts = 10\n",
    "\n",
    "      for _ in tqdm(range(attempts)):\n",
    "        actions = astar_search(model, env, cost_to_go)\n",
    "\n",
    "        if actions is not None:\n",
    "          solve_count += 1\n",
    "          total_moves += len(actions)\n",
    "\n",
    "      solve_rate = solve_count / attempts\n",
    "      avg_moves = total_moves / solve_count if solve_count > 0 else 0\n",
    "\n",
    "      solve_rates[size].append(solve_rate)\n",
    "      move_counts[size].append(avg_moves)\n",
    "\n",
    "  return solve_rates, move_counts"
   ]
  },
  {
   "cell_type": "code",
   "execution_count": 29,
   "metadata": {},
   "outputs": [],
   "source": [
    "def plot_results(solve_rates, move_counts, costs_to_go):\n",
    "  \"\"\" Plot the solve rates and move counts for the given cost-to-go values\"\"\"\n",
    "  plt.figure(figsize=(14, 6))\n",
    "\n",
    "  colors = {'2': '#425066', '3': '#12b5cb', '4': '#e52592'}\n",
    "\n",
    "  max_length = max(len(costs_to_go), max(len(rates) for rates in solve_rates.values(\n",
    "  )), max(len(counts) for counts in move_counts.values()))\n",
    "\n",
    "  # Adjust the lengths of the lists to match the maximum possible length - there was a bug when the lengths were different\n",
    "  if len(costs_to_go) < max_length:\n",
    "    # print(f\"Warning: 'costs_to_go' length is less than some of the 'rates' or 'counts'. Adjusting 'x_values' accordingly.\")\n",
    "    costs_to_go = costs_to_go + [None] * (max_length - len(costs_to_go))\n",
    "\n",
    "  for size, rates in solve_rates.items():\n",
    "    x_values = costs_to_go[:len(rates)]\n",
    "    plt.plot(x_values, rates, '-o',\n",
    "             label=f'{size}x{size}x{size}', color=colors[str(size)])\n",
    "\n",
    "  plt.title('Wskaźnik rozwiązywalności w zależności od cost-to-go')\n",
    "  plt.xlabel('Cost-to-go')\n",
    "  # Adjust xticks to match the maximum possible length\n",
    "  plt.xticks(costs_to_go[:max_length])\n",
    "  plt.ylabel('Solve Rate')\n",
    "  plt.legend()\n",
    "  plt.grid(True)\n",
    "  plt.savefig('solve_rate_vs_cost_to_go.png')\n",
    "  plt.show()\n",
    "\n",
    "  plt.figure(figsize=(14, 6))\n",
    "\n",
    "  for size, counts in move_counts.items():\n",
    "    x_values = costs_to_go[:len(counts)]\n",
    "    plt.plot(x_values, counts, '-o',\n",
    "             label=f'{size}x{size}x{size}', color=colors[str(size)])\n",
    "\n",
    "  plt.title('Średnia ilość ruchów w zależności od cost-to-go')\n",
    "  plt.xlabel('Cost-to-go')\n",
    "  # Adjust xticks to match the maximum possible length\n",
    "  plt.xticks(costs_to_go[:max_length])\n",
    "  plt.ylabel('Średnia ilość ruchów')\n",
    "  plt.legend()\n",
    "  plt.grid(True)\n",
    "  plt.show()\n",
    "\n",
    "  plt.tight_layout()\n",
    "  plt.savefig('average_move_count_vs_cost_to_go.png')"
   ]
  },
  {
   "cell_type": "code",
   "execution_count": 9,
   "metadata": {},
   "outputs": [
    {
     "name": "stdout",
     "output_type": "stream",
     "text": [
      "{'status': 'initialized'}\n",
      "Testing 2x2x2 cube with difficulty 0\n"
     ]
    },
    {
     "name": "stderr",
     "output_type": "stream",
     "text": [
      "100%|██████████| 10/10 [00:00<00:00, 10.21it/s]\n"
     ]
    },
    {
     "name": "stdout",
     "output_type": "stream",
     "text": [
      "Testing 2x2x2 cube with difficulty 1\n"
     ]
    },
    {
     "name": "stderr",
     "output_type": "stream",
     "text": [
      "100%|██████████| 10/10 [00:06<00:00,  1.64it/s]\n"
     ]
    },
    {
     "name": "stdout",
     "output_type": "stream",
     "text": [
      "Testing 2x2x2 cube with difficulty 2\n"
     ]
    },
    {
     "name": "stderr",
     "output_type": "stream",
     "text": [
      "100%|██████████| 10/10 [00:10<00:00,  1.08s/it]\n"
     ]
    },
    {
     "name": "stdout",
     "output_type": "stream",
     "text": [
      "Testing 2x2x2 cube with difficulty 3\n"
     ]
    },
    {
     "name": "stderr",
     "output_type": "stream",
     "text": [
      "100%|██████████| 10/10 [00:15<00:00,  1.58s/it]\n"
     ]
    },
    {
     "name": "stdout",
     "output_type": "stream",
     "text": [
      "Testing 2x2x2 cube with difficulty 4\n"
     ]
    },
    {
     "name": "stderr",
     "output_type": "stream",
     "text": [
      "100%|██████████| 10/10 [00:17<00:00,  1.77s/it]\n"
     ]
    },
    {
     "name": "stdout",
     "output_type": "stream",
     "text": [
      "Testing 2x2x2 cube with difficulty 5\n"
     ]
    },
    {
     "name": "stderr",
     "output_type": "stream",
     "text": [
      "100%|██████████| 10/10 [00:25<00:00,  2.57s/it]\n"
     ]
    },
    {
     "name": "stdout",
     "output_type": "stream",
     "text": [
      "Testing 2x2x2 cube with difficulty 6\n"
     ]
    },
    {
     "name": "stderr",
     "output_type": "stream",
     "text": [
      "100%|██████████| 10/10 [00:18<00:00,  1.82s/it]\n"
     ]
    },
    {
     "name": "stdout",
     "output_type": "stream",
     "text": [
      "Testing 2x2x2 cube with difficulty 7\n"
     ]
    },
    {
     "name": "stderr",
     "output_type": "stream",
     "text": [
      "100%|██████████| 10/10 [00:28<00:00,  2.90s/it]\n"
     ]
    },
    {
     "name": "stdout",
     "output_type": "stream",
     "text": [
      "Testing 2x2x2 cube with difficulty 8\n"
     ]
    },
    {
     "name": "stderr",
     "output_type": "stream",
     "text": [
      "100%|██████████| 10/10 [00:39<00:00,  3.94s/it]\n"
     ]
    },
    {
     "name": "stdout",
     "output_type": "stream",
     "text": [
      "Testing 2x2x2 cube with difficulty 9\n"
     ]
    },
    {
     "name": "stderr",
     "output_type": "stream",
     "text": [
      "100%|██████████| 10/10 [01:19<00:00,  7.99s/it]\n"
     ]
    },
    {
     "name": "stdout",
     "output_type": "stream",
     "text": [
      "Testing 2x2x2 cube with difficulty 10\n"
     ]
    },
    {
     "name": "stderr",
     "output_type": "stream",
     "text": [
      "100%|██████████| 10/10 [01:07<00:00,  6.78s/it]\n"
     ]
    },
    {
     "name": "stdout",
     "output_type": "stream",
     "text": [
      "Testing 2x2x2 cube with difficulty 11\n"
     ]
    },
    {
     "name": "stderr",
     "output_type": "stream",
     "text": [
      "100%|██████████| 10/10 [02:10<00:00, 13.05s/it]\n"
     ]
    },
    {
     "name": "stdout",
     "output_type": "stream",
     "text": [
      "{'status': 'initialized'}\n",
      "Testing 3x3x3 cube with difficulty 0\n"
     ]
    },
    {
     "name": "stderr",
     "output_type": "stream",
     "text": [
      "100%|██████████| 10/10 [00:01<00:00,  9.65it/s]\n"
     ]
    },
    {
     "name": "stdout",
     "output_type": "stream",
     "text": [
      "Testing 3x3x3 cube with difficulty 1\n"
     ]
    },
    {
     "name": "stderr",
     "output_type": "stream",
     "text": [
      "100%|██████████| 10/10 [00:08<00:00,  1.21it/s]\n"
     ]
    },
    {
     "name": "stdout",
     "output_type": "stream",
     "text": [
      "Testing 3x3x3 cube with difficulty 2\n"
     ]
    },
    {
     "name": "stderr",
     "output_type": "stream",
     "text": [
      "100%|██████████| 10/10 [00:15<00:00,  1.50s/it]\n"
     ]
    },
    {
     "name": "stdout",
     "output_type": "stream",
     "text": [
      "Testing 3x3x3 cube with difficulty 3\n"
     ]
    },
    {
     "name": "stderr",
     "output_type": "stream",
     "text": [
      "100%|██████████| 10/10 [00:23<00:00,  2.31s/it]\n"
     ]
    },
    {
     "name": "stdout",
     "output_type": "stream",
     "text": [
      "Testing 3x3x3 cube with difficulty 4\n"
     ]
    },
    {
     "name": "stderr",
     "output_type": "stream",
     "text": [
      "100%|██████████| 10/10 [00:27<00:00,  2.72s/it]\n"
     ]
    },
    {
     "name": "stdout",
     "output_type": "stream",
     "text": [
      "Testing 3x3x3 cube with difficulty 5\n"
     ]
    },
    {
     "name": "stderr",
     "output_type": "stream",
     "text": [
      "100%|██████████| 10/10 [00:31<00:00,  3.14s/it]\n"
     ]
    },
    {
     "name": "stdout",
     "output_type": "stream",
     "text": [
      "Testing 3x3x3 cube with difficulty 6\n"
     ]
    },
    {
     "name": "stderr",
     "output_type": "stream",
     "text": [
      "100%|██████████| 10/10 [00:37<00:00,  3.77s/it]\n"
     ]
    },
    {
     "name": "stdout",
     "output_type": "stream",
     "text": [
      "Testing 3x3x3 cube with difficulty 7\n"
     ]
    },
    {
     "name": "stderr",
     "output_type": "stream",
     "text": [
      "100%|██████████| 10/10 [01:10<00:00,  7.03s/it]\n"
     ]
    },
    {
     "name": "stdout",
     "output_type": "stream",
     "text": [
      "Testing 3x3x3 cube with difficulty 8\n"
     ]
    },
    {
     "name": "stderr",
     "output_type": "stream",
     "text": [
      " 80%|████████  | 8/10 [05:27<02:05, 62.51s/it] "
     ]
    },
    {
     "name": "stdout",
     "output_type": "stream",
     "text": [
      "Reached maximum number of explored states without finding a solution.\n"
     ]
    },
    {
     "name": "stderr",
     "output_type": "stream",
     "text": [
      "100%|██████████| 10/10 [08:27<00:00, 50.73s/it]\n"
     ]
    },
    {
     "name": "stdout",
     "output_type": "stream",
     "text": [
      "Reached maximum number of explored states without finding a solution.\n",
      "Testing 3x3x3 cube with difficulty 9\n"
     ]
    },
    {
     "name": "stderr",
     "output_type": "stream",
     "text": [
      "100%|██████████| 10/10 [01:14<00:00,  7.48s/it]\n"
     ]
    },
    {
     "name": "stdout",
     "output_type": "stream",
     "text": [
      "Testing 3x3x3 cube with difficulty 10\n"
     ]
    },
    {
     "name": "stderr",
     "output_type": "stream",
     "text": [
      " 70%|███████   | 7/10 [04:09<03:19, 66.56s/it]"
     ]
    },
    {
     "name": "stdout",
     "output_type": "stream",
     "text": [
      "Reached maximum number of explored states without finding a solution.\n"
     ]
    },
    {
     "name": "stderr",
     "output_type": "stream",
     "text": [
      "100%|██████████| 10/10 [04:48<00:00, 28.84s/it]\n"
     ]
    },
    {
     "name": "stdout",
     "output_type": "stream",
     "text": [
      "Testing 3x3x3 cube with difficulty 11\n"
     ]
    },
    {
     "name": "stderr",
     "output_type": "stream",
     "text": [
      " 50%|█████     | 5/10 [06:58<07:58, 95.69s/it] "
     ]
    },
    {
     "name": "stdout",
     "output_type": "stream",
     "text": [
      "Reached maximum number of explored states without finding a solution.\n"
     ]
    },
    {
     "name": "stderr",
     "output_type": "stream",
     "text": [
      "100%|██████████| 10/10 [08:38<00:00, 51.82s/it]\n"
     ]
    },
    {
     "name": "stdout",
     "output_type": "stream",
     "text": [
      "Testing 3x3x3 cube with difficulty 12\n"
     ]
    },
    {
     "name": "stderr",
     "output_type": "stream",
     "text": [
      " 60%|██████    | 6/10 [04:36<04:49, 72.31s/it]"
     ]
    },
    {
     "name": "stdout",
     "output_type": "stream",
     "text": [
      "Reached maximum number of explored states without finding a solution.\n"
     ]
    },
    {
     "name": "stderr",
     "output_type": "stream",
     "text": [
      " 70%|███████   | 7/10 [07:43<05:28, 109.65s/it]"
     ]
    },
    {
     "name": "stdout",
     "output_type": "stream",
     "text": [
      "Reached maximum number of explored states without finding a solution.\n"
     ]
    },
    {
     "name": "stderr",
     "output_type": "stream",
     "text": [
      "100%|██████████| 10/10 [08:29<00:00, 50.98s/it]\n"
     ]
    },
    {
     "name": "stdout",
     "output_type": "stream",
     "text": [
      "Testing 3x3x3 cube with difficulty 13\n"
     ]
    },
    {
     "name": "stderr",
     "output_type": "stream",
     "text": [
      " 10%|█         | 1/10 [03:12<28:53, 192.56s/it]"
     ]
    },
    {
     "name": "stdout",
     "output_type": "stream",
     "text": [
      "Reached maximum number of explored states without finding a solution.\n"
     ]
    },
    {
     "name": "stderr",
     "output_type": "stream",
     "text": [
      " 30%|███       | 3/10 [06:39<15:48, 135.57s/it]"
     ]
    },
    {
     "name": "stdout",
     "output_type": "stream",
     "text": [
      "Reached maximum number of explored states without finding a solution.\n"
     ]
    },
    {
     "name": "stderr",
     "output_type": "stream",
     "text": [
      " 40%|████      | 4/10 [09:50<15:43, 157.25s/it]"
     ]
    },
    {
     "name": "stdout",
     "output_type": "stream",
     "text": [
      "Reached maximum number of explored states without finding a solution.\n"
     ]
    },
    {
     "name": "stderr",
     "output_type": "stream",
     "text": [
      " 80%|████████  | 8/10 [14:10<03:19, 99.77s/it] "
     ]
    },
    {
     "name": "stdout",
     "output_type": "stream",
     "text": [
      "Reached maximum number of explored states without finding a solution.\n"
     ]
    },
    {
     "name": "stderr",
     "output_type": "stream",
     "text": [
      "100%|██████████| 10/10 [17:29<00:00, 104.96s/it]\n"
     ]
    },
    {
     "name": "stdout",
     "output_type": "stream",
     "text": [
      "Reached maximum number of explored states without finding a solution.\n",
      "Testing 3x3x3 cube with difficulty 14\n"
     ]
    },
    {
     "name": "stderr",
     "output_type": "stream",
     "text": [
      " 20%|██        | 2/10 [03:29<16:09, 121.21s/it]"
     ]
    },
    {
     "name": "stdout",
     "output_type": "stream",
     "text": [
      "Reached maximum number of explored states without finding a solution.\n"
     ]
    },
    {
     "name": "stderr",
     "output_type": "stream",
     "text": [
      " 30%|███       | 3/10 [06:44<18:03, 154.78s/it]"
     ]
    },
    {
     "name": "stdout",
     "output_type": "stream",
     "text": [
      "Reached maximum number of explored states without finding a solution.\n"
     ]
    },
    {
     "name": "stderr",
     "output_type": "stream",
     "text": [
      " 40%|████      | 4/10 [09:59<17:04, 170.77s/it]"
     ]
    },
    {
     "name": "stdout",
     "output_type": "stream",
     "text": [
      "Reached maximum number of explored states without finding a solution.\n"
     ]
    },
    {
     "name": "stderr",
     "output_type": "stream",
     "text": [
      " 60%|██████    | 6/10 [13:57<09:53, 148.49s/it]"
     ]
    },
    {
     "name": "stdout",
     "output_type": "stream",
     "text": [
      "Reached maximum number of explored states without finding a solution.\n"
     ]
    },
    {
     "name": "stderr",
     "output_type": "stream",
     "text": [
      "100%|██████████| 10/10 [15:48<00:00, 94.84s/it]\n"
     ]
    },
    {
     "name": "stdout",
     "output_type": "stream",
     "text": [
      "{'status': 'initialized'}\n",
      "Testing 4x4x4 cube with difficulty 0\n"
     ]
    },
    {
     "name": "stderr",
     "output_type": "stream",
     "text": [
      "100%|██████████| 10/10 [00:01<00:00,  5.63it/s]\n"
     ]
    },
    {
     "name": "stdout",
     "output_type": "stream",
     "text": [
      "Testing 4x4x4 cube with difficulty 1\n"
     ]
    },
    {
     "name": "stderr",
     "output_type": "stream",
     "text": [
      "100%|██████████| 10/10 [00:11<00:00,  1.17s/it]\n"
     ]
    },
    {
     "name": "stdout",
     "output_type": "stream",
     "text": [
      "Testing 4x4x4 cube with difficulty 2\n"
     ]
    },
    {
     "name": "stderr",
     "output_type": "stream",
     "text": [
      "100%|██████████| 10/10 [00:18<00:00,  1.81s/it]\n"
     ]
    },
    {
     "name": "stdout",
     "output_type": "stream",
     "text": [
      "Testing 4x4x4 cube with difficulty 3\n"
     ]
    },
    {
     "name": "stderr",
     "output_type": "stream",
     "text": [
      "100%|██████████| 10/10 [00:29<00:00,  2.97s/it]\n"
     ]
    },
    {
     "name": "stdout",
     "output_type": "stream",
     "text": [
      "Testing 4x4x4 cube with difficulty 4\n"
     ]
    },
    {
     "name": "stderr",
     "output_type": "stream",
     "text": [
      "100%|██████████| 10/10 [00:38<00:00,  3.88s/it]\n"
     ]
    },
    {
     "name": "stdout",
     "output_type": "stream",
     "text": [
      "Testing 4x4x4 cube with difficulty 5\n"
     ]
    },
    {
     "name": "stderr",
     "output_type": "stream",
     "text": [
      "100%|██████████| 10/10 [00:59<00:00,  5.96s/it]\n"
     ]
    },
    {
     "name": "stdout",
     "output_type": "stream",
     "text": [
      "Testing 4x4x4 cube with difficulty 6\n"
     ]
    },
    {
     "name": "stderr",
     "output_type": "stream",
     "text": [
      "100%|██████████| 10/10 [01:42<00:00, 10.29s/it]\n"
     ]
    },
    {
     "name": "stdout",
     "output_type": "stream",
     "text": [
      "Testing 4x4x4 cube with difficulty 7\n"
     ]
    },
    {
     "name": "stderr",
     "output_type": "stream",
     "text": [
      " 70%|███████   | 7/10 [04:46<04:08, 82.84s/it]"
     ]
    },
    {
     "name": "stdout",
     "output_type": "stream",
     "text": [
      "Reached maximum number of explored states without finding a solution.\n"
     ]
    },
    {
     "name": "stderr",
     "output_type": "stream",
     "text": [
      " 80%|████████  | 8/10 [08:38<04:20, 130.16s/it]"
     ]
    },
    {
     "name": "stdout",
     "output_type": "stream",
     "text": [
      "Reached maximum number of explored states without finding a solution.\n"
     ]
    },
    {
     "name": "stderr",
     "output_type": "stream",
     "text": [
      "100%|██████████| 10/10 [08:54<00:00, 53.48s/it]\n"
     ]
    },
    {
     "name": "stdout",
     "output_type": "stream",
     "text": [
      "Testing 4x4x4 cube with difficulty 8\n"
     ]
    },
    {
     "name": "stderr",
     "output_type": "stream",
     "text": [
      " 30%|███       | 3/10 [04:31<13:36, 116.63s/it]"
     ]
    },
    {
     "name": "stdout",
     "output_type": "stream",
     "text": [
      "Reached maximum number of explored states without finding a solution.\n"
     ]
    },
    {
     "name": "stderr",
     "output_type": "stream",
     "text": [
      " 50%|█████     | 5/10 [08:27<10:49, 129.84s/it]"
     ]
    },
    {
     "name": "stdout",
     "output_type": "stream",
     "text": [
      "Reached maximum number of explored states without finding a solution.\n"
     ]
    },
    {
     "name": "stderr",
     "output_type": "stream",
     "text": [
      "100%|██████████| 10/10 [13:00<00:00, 78.02s/it]\n"
     ]
    },
    {
     "name": "stdout",
     "output_type": "stream",
     "text": [
      "Reached maximum number of explored states without finding a solution.\n",
      "Testing 4x4x4 cube with difficulty 9\n"
     ]
    },
    {
     "name": "stderr",
     "output_type": "stream",
     "text": [
      "100%|██████████| 10/10 [04:08<00:00, 24.81s/it]\n"
     ]
    },
    {
     "name": "stdout",
     "output_type": "stream",
     "text": [
      "Testing 4x4x4 cube with difficulty 10\n"
     ]
    },
    {
     "name": "stderr",
     "output_type": "stream",
     "text": [
      " 30%|███       | 3/10 [04:20<13:24, 114.95s/it]"
     ]
    },
    {
     "name": "stdout",
     "output_type": "stream",
     "text": [
      "Reached maximum number of explored states without finding a solution.\n"
     ]
    },
    {
     "name": "stderr",
     "output_type": "stream",
     "text": [
      " 40%|████      | 4/10 [05:12<07:48, 78.01s/it] \n"
     ]
    },
    {
     "ename": "ConnectionResetError",
     "evalue": "[Errno 104] Connection reset by peer",
     "output_type": "error",
     "traceback": [
      "\u001b[0;31m---------------------------------------------------------------------------\u001b[0m",
      "\u001b[0;31mConnectionResetError\u001b[0m                      Traceback (most recent call last)",
      "Cell \u001b[0;32mIn[9], line 16\u001b[0m\n\u001b[1;32m      9\u001b[0m cost_to_gos \u001b[38;5;241m=\u001b[39m \u001b[38;5;28mrange\u001b[39m(\u001b[38;5;241m0\u001b[39m, \u001b[38;5;241m14\u001b[39m)\n\u001b[1;32m     10\u001b[0m env_setup \u001b[38;5;241m=\u001b[39m {\n\u001b[1;32m     11\u001b[0m     \u001b[38;5;124m'\u001b[39m\u001b[38;5;124mserver_address\u001b[39m\u001b[38;5;124m'\u001b[39m: \u001b[38;5;124m'\u001b[39m\u001b[38;5;124m127.0.0.1\u001b[39m\u001b[38;5;124m'\u001b[39m,\n\u001b[1;32m     12\u001b[0m     \u001b[38;5;124m'\u001b[39m\u001b[38;5;124mserver_port\u001b[39m\u001b[38;5;124m'\u001b[39m: \u001b[38;5;241m4242\u001b[39m,\n\u001b[1;32m     13\u001b[0m     \u001b[38;5;124m'\u001b[39m\u001b[38;5;124manimation_enabled\u001b[39m\u001b[38;5;124m'\u001b[39m: \u001b[38;5;28;01mFalse\u001b[39;00m\n\u001b[1;32m     14\u001b[0m }\n\u001b[0;32m---> 16\u001b[0m solve_rates, move_counts \u001b[38;5;241m=\u001b[39m \u001b[43mtest_astar\u001b[49m\u001b[43m(\u001b[49m\n\u001b[1;32m     17\u001b[0m \u001b[43m  \u001b[49m\u001b[43mmodel_paths\u001b[49m\u001b[43m,\u001b[49m\u001b[43m \u001b[49m\u001b[43mcube_sizes\u001b[49m\u001b[43m,\u001b[49m\u001b[43m \u001b[49m\u001b[43mcost_to_gos\u001b[49m\u001b[43m,\u001b[49m\u001b[43m \u001b[49m\u001b[43menv_setup\u001b[49m\u001b[43m)\u001b[49m\n",
      "Cell \u001b[0;32mIn[6], line 27\u001b[0m, in \u001b[0;36mtest_astar\u001b[0;34m(model_paths, cube_sizes, difficulties, env_setup)\u001b[0m\n\u001b[1;32m     24\u001b[0m attempts \u001b[38;5;241m=\u001b[39m \u001b[38;5;241m10\u001b[39m\n\u001b[1;32m     26\u001b[0m \u001b[38;5;28;01mfor\u001b[39;00m _ \u001b[38;5;129;01min\u001b[39;00m tqdm(\u001b[38;5;28mrange\u001b[39m(attempts)):\n\u001b[0;32m---> 27\u001b[0m   actions \u001b[38;5;241m=\u001b[39m \u001b[43mweighted_astar_search\u001b[49m\u001b[43m(\u001b[49m\u001b[43mmodel\u001b[49m\u001b[43m,\u001b[49m\u001b[43m \u001b[49m\u001b[43menv\u001b[49m\u001b[43m,\u001b[49m\u001b[43m \u001b[49m\u001b[43mdifficulty\u001b[49m\u001b[43m)\u001b[49m\n\u001b[1;32m     29\u001b[0m   \u001b[38;5;28;01mif\u001b[39;00m actions \u001b[38;5;129;01mis\u001b[39;00m \u001b[38;5;129;01mnot\u001b[39;00m \u001b[38;5;28;01mNone\u001b[39;00m:\n\u001b[1;32m     30\u001b[0m     solve_count \u001b[38;5;241m+\u001b[39m\u001b[38;5;241m=\u001b[39m \u001b[38;5;241m1\u001b[39m\n",
      "Cell \u001b[0;32mIn[5], line 42\u001b[0m, in \u001b[0;36mweighted_astar_search\u001b[0;34m(model, env, initial_scramble, max_explored_states, lambda_weight)\u001b[0m\n\u001b[1;32m     40\u001b[0m \u001b[38;5;28;01mfor\u001b[39;00m action \u001b[38;5;129;01min\u001b[39;00m generate_all_possible_actions(env\u001b[38;5;241m.\u001b[39mcube_size):\n\u001b[1;32m     41\u001b[0m   env\u001b[38;5;241m.\u001b[39mstep(action)\n\u001b[0;32m---> 42\u001b[0m   new_state \u001b[38;5;241m=\u001b[39m \u001b[43menv\u001b[49m\u001b[38;5;241;43m.\u001b[39;49m\u001b[43mget_state\u001b[49m\u001b[43m(\u001b[49m\u001b[43m)\u001b[49m\n\u001b[1;32m     43\u001b[0m   new_state_encoded \u001b[38;5;241m=\u001b[39m one_hot_encode(new_state)\n\u001b[1;32m     44\u001b[0m   new_path \u001b[38;5;241m=\u001b[39m current_path \u001b[38;5;241m+\u001b[39m [action]\n",
      "File \u001b[0;32m/ssd/git/Thesis/RLCubeSolver-Godot/agent/environment.py:72\u001b[0m, in \u001b[0;36mRubiksCubeEnv.get_state\u001b[0;34m(self)\u001b[0m\n\u001b[1;32m     70\u001b[0m \u001b[38;5;28;01mdef\u001b[39;00m \u001b[38;5;21mget_state\u001b[39m(\u001b[38;5;28mself\u001b[39m):\n\u001b[1;32m     71\u001b[0m   \u001b[38;5;28mself\u001b[39m\u001b[38;5;241m.\u001b[39m_send(\u001b[38;5;124m\"\u001b[39m\u001b[38;5;124mget_state\u001b[39m\u001b[38;5;124m\"\u001b[39m)\n\u001b[0;32m---> 72\u001b[0m   \u001b[38;5;28;01mreturn\u001b[39;00m \u001b[38;5;28;43mself\u001b[39;49m\u001b[38;5;241;43m.\u001b[39;49m\u001b[43m_receive\u001b[49m\u001b[43m(\u001b[49m\u001b[43m)\u001b[49m\n",
      "File \u001b[0;32m/ssd/git/Thesis/RLCubeSolver-Godot/agent/environment.py:88\u001b[0m, in \u001b[0;36mRubiksCubeEnv._receive\u001b[0;34m(self)\u001b[0m\n\u001b[1;32m     86\u001b[0m \u001b[38;5;28;01mdef\u001b[39;00m \u001b[38;5;21m_receive\u001b[39m(\u001b[38;5;28mself\u001b[39m):\n\u001b[1;32m     87\u001b[0m   \u001b[38;5;66;03m# Receive response from server\u001b[39;00m\n\u001b[0;32m---> 88\u001b[0m   response \u001b[38;5;241m=\u001b[39m \u001b[38;5;28;43mself\u001b[39;49m\u001b[38;5;241;43m.\u001b[39;49m\u001b[43msocket\u001b[49m\u001b[38;5;241;43m.\u001b[39;49m\u001b[43mrecv\u001b[49m\u001b[43m(\u001b[49m\u001b[38;5;241;43m4096\u001b[39;49m\u001b[43m)\u001b[49m\n\u001b[1;32m     89\u001b[0m   \u001b[38;5;28;01mreturn\u001b[39;00m json\u001b[38;5;241m.\u001b[39mloads(response\u001b[38;5;241m.\u001b[39mdecode())\n",
      "\u001b[0;31mConnectionResetError\u001b[0m: [Errno 104] Connection reset by peer"
     ]
    }
   ],
   "source": [
    "\"\"\" Test for solve rate and average moves \"\"\"\n",
    "device = torch.device(\"cuda\" if torch.cuda.is_available() else \"cpu\")\n",
    "model_paths = {\n",
    "    2: './networks/best_value_network_2x2x2.pth',\n",
    "    3: './networks/best_value_network_3x3x3.pth',\n",
    "    4: './networks/best_value_network_4x4x4.pth'\n",
    "}\n",
    "cube_sizes = [2, 3, 4]\n",
    "cost_to_gos = range(0, 14)\n",
    "env_setup = {\n",
    "    'server_address': '127.0.0.1',\n",
    "    'server_port': 4242,\n",
    "    'animation_enabled': False\n",
    "}\n",
    "\n",
    "solve_rates_2x2x2, move_counts_2x2x2 = test_astar(\n",
    "  model_paths, cube_sizes, cost_to_gos, env_setup)"
   ]
  },
  {
   "cell_type": "code",
   "execution_count": 12,
   "metadata": {},
   "outputs": [
    {
     "name": "stdout",
     "output_type": "stream",
     "text": [
      "{'status': 'initialized'}\n",
      "Testing 2x2x2 cube with difficulty 0\n"
     ]
    },
    {
     "name": "stderr",
     "output_type": "stream",
     "text": [
      "100%|██████████| 10/10 [00:00<00:00, 11.63it/s]\n"
     ]
    },
    {
     "name": "stdout",
     "output_type": "stream",
     "text": [
      "Testing 2x2x2 cube with difficulty 1\n"
     ]
    },
    {
     "name": "stderr",
     "output_type": "stream",
     "text": [
      "100%|██████████| 10/10 [00:06<00:00,  1.64it/s]\n"
     ]
    },
    {
     "name": "stdout",
     "output_type": "stream",
     "text": [
      "Testing 2x2x2 cube with difficulty 2\n"
     ]
    },
    {
     "name": "stderr",
     "output_type": "stream",
     "text": [
      "100%|██████████| 10/10 [00:10<00:00,  1.08s/it]\n"
     ]
    },
    {
     "name": "stdout",
     "output_type": "stream",
     "text": [
      "Testing 2x2x2 cube with difficulty 3\n"
     ]
    },
    {
     "name": "stderr",
     "output_type": "stream",
     "text": [
      "100%|██████████| 10/10 [00:13<00:00,  1.37s/it]\n"
     ]
    },
    {
     "name": "stdout",
     "output_type": "stream",
     "text": [
      "Testing 2x2x2 cube with difficulty 4\n"
     ]
    },
    {
     "name": "stderr",
     "output_type": "stream",
     "text": [
      "100%|██████████| 10/10 [00:19<00:00,  1.92s/it]\n"
     ]
    },
    {
     "name": "stdout",
     "output_type": "stream",
     "text": [
      "Testing 2x2x2 cube with difficulty 5\n"
     ]
    },
    {
     "name": "stderr",
     "output_type": "stream",
     "text": [
      "100%|██████████| 10/10 [00:18<00:00,  1.86s/it]\n"
     ]
    },
    {
     "name": "stdout",
     "output_type": "stream",
     "text": [
      "Testing 2x2x2 cube with difficulty 6\n"
     ]
    },
    {
     "name": "stderr",
     "output_type": "stream",
     "text": [
      "100%|██████████| 10/10 [00:29<00:00,  2.95s/it]\n"
     ]
    },
    {
     "name": "stdout",
     "output_type": "stream",
     "text": [
      "Testing 2x2x2 cube with difficulty 7\n"
     ]
    },
    {
     "name": "stderr",
     "output_type": "stream",
     "text": [
      "100%|██████████| 10/10 [00:40<00:00,  4.01s/it]\n"
     ]
    },
    {
     "name": "stdout",
     "output_type": "stream",
     "text": [
      "Testing 2x2x2 cube with difficulty 8\n"
     ]
    },
    {
     "name": "stderr",
     "output_type": "stream",
     "text": [
      "100%|██████████| 10/10 [00:36<00:00,  3.64s/it]\n"
     ]
    },
    {
     "name": "stdout",
     "output_type": "stream",
     "text": [
      "Testing 2x2x2 cube with difficulty 9\n"
     ]
    },
    {
     "name": "stderr",
     "output_type": "stream",
     "text": [
      "100%|██████████| 10/10 [00:46<00:00,  4.65s/it]\n"
     ]
    },
    {
     "name": "stdout",
     "output_type": "stream",
     "text": [
      "Testing 2x2x2 cube with difficulty 10\n"
     ]
    },
    {
     "name": "stderr",
     "output_type": "stream",
     "text": [
      "100%|██████████| 10/10 [00:49<00:00,  4.90s/it]\n"
     ]
    },
    {
     "name": "stdout",
     "output_type": "stream",
     "text": [
      "Testing 2x2x2 cube with difficulty 11\n"
     ]
    },
    {
     "name": "stderr",
     "output_type": "stream",
     "text": [
      "100%|██████████| 10/10 [02:09<00:00, 12.98s/it]\n"
     ]
    }
   ],
   "source": [
    "cube_sizes = [2]\n",
    "cost_to_gos = range(0, 12)\n",
    "env_setup = {\n",
    "    'server_address': '127.0.0.1',\n",
    "    'server_port': 4242,\n",
    "    'animation_enabled': False\n",
    "}\n",
    "solve_rates_2x2x2, move_counts_2x2x2 = test_astar(\n",
    "  model_paths, cube_sizes, cost_to_gos, env_setup)"
   ]
  },
  {
   "cell_type": "code",
   "execution_count": 13,
   "metadata": {},
   "outputs": [
    {
     "data": {
      "image/png": "[encoded data removed]",
      "text/plain": [
       "<Figure size 1400x600 with 1 Axes>"
      ]
     },
     "metadata": {},
     "output_type": "display_data"
    },
    {
     "data": {
      "image/png": "[encoded data removed]",
      "text/plain": [
       "<Figure size 1400x600 with 1 Axes>"
      ]
     },
     "metadata": {},
     "output_type": "display_data"
    },
    {
     "data": {
      "text/plain": [
       "<Figure size 640x480 with 0 Axes>"
      ]
     },
     "metadata": {},
     "output_type": "display_data"
    }
   ],
   "source": [
    "plot_results(solve_rates_2x2x2, move_counts_2x2x2, cost_to_gos)"
   ]
  },
  {
   "cell_type": "code",
   "execution_count": 22,
   "metadata": {},
   "outputs": [
    {
     "name": "stdout",
     "output_type": "stream",
     "text": [
      "{'status': 'initialized'}\n",
      "Testing 3x3x3 cube with difficulty 0\n"
     ]
    },
    {
     "name": "stderr",
     "output_type": "stream",
     "text": [
      "100%|██████████| 10/10 [00:01<00:00,  9.50it/s]\n"
     ]
    },
    {
     "name": "stdout",
     "output_type": "stream",
     "text": [
      "Testing 3x3x3 cube with difficulty 1\n"
     ]
    },
    {
     "name": "stderr",
     "output_type": "stream",
     "text": [
      "100%|██████████| 10/10 [00:08<00:00,  1.21it/s]\n"
     ]
    },
    {
     "name": "stdout",
     "output_type": "stream",
     "text": [
      "Testing 3x3x3 cube with difficulty 2\n"
     ]
    },
    {
     "name": "stderr",
     "output_type": "stream",
     "text": [
      "100%|██████████| 10/10 [00:14<00:00,  1.50s/it]\n"
     ]
    },
    {
     "name": "stdout",
     "output_type": "stream",
     "text": [
      "Testing 3x3x3 cube with difficulty 3\n"
     ]
    },
    {
     "name": "stderr",
     "output_type": "stream",
     "text": [
      "100%|██████████| 10/10 [00:22<00:00,  2.21s/it]\n"
     ]
    },
    {
     "name": "stdout",
     "output_type": "stream",
     "text": [
      "Testing 3x3x3 cube with difficulty 4\n"
     ]
    },
    {
     "name": "stderr",
     "output_type": "stream",
     "text": [
      "100%|██████████| 10/10 [00:29<00:00,  2.91s/it]\n"
     ]
    },
    {
     "name": "stdout",
     "output_type": "stream",
     "text": [
      "Testing 3x3x3 cube with difficulty 5\n"
     ]
    },
    {
     "name": "stderr",
     "output_type": "stream",
     "text": [
      "100%|██████████| 10/10 [00:37<00:00,  3.76s/it]\n"
     ]
    },
    {
     "name": "stdout",
     "output_type": "stream",
     "text": [
      "Testing 3x3x3 cube with difficulty 6\n"
     ]
    },
    {
     "name": "stderr",
     "output_type": "stream",
     "text": [
      "100%|██████████| 10/10 [00:48<00:00,  4.88s/it]\n"
     ]
    },
    {
     "name": "stdout",
     "output_type": "stream",
     "text": [
      "Testing 3x3x3 cube with difficulty 7\n"
     ]
    },
    {
     "name": "stderr",
     "output_type": "stream",
     "text": [
      "100%|██████████| 10/10 [00:45<00:00,  4.54s/it]\n"
     ]
    },
    {
     "name": "stdout",
     "output_type": "stream",
     "text": [
      "Testing 3x3x3 cube with difficulty 8\n"
     ]
    },
    {
     "name": "stderr",
     "output_type": "stream",
     "text": [
      " 90%|█████████ | 9/10 [03:48<01:00, 60.56s/it]"
     ]
    },
    {
     "name": "stdout",
     "output_type": "stream",
     "text": [
      "Reached maximum number of explored states without finding a solution.\n"
     ]
    },
    {
     "name": "stderr",
     "output_type": "stream",
     "text": [
      "100%|██████████| 10/10 [03:54<00:00, 23.49s/it]\n"
     ]
    },
    {
     "name": "stdout",
     "output_type": "stream",
     "text": [
      "Testing 3x3x3 cube with difficulty 9\n"
     ]
    },
    {
     "name": "stderr",
     "output_type": "stream",
     "text": [
      " 40%|████      | 4/10 [03:48<08:15, 82.58s/it]"
     ]
    },
    {
     "name": "stdout",
     "output_type": "stream",
     "text": [
      "Reached maximum number of explored states without finding a solution.\n"
     ]
    },
    {
     "name": "stderr",
     "output_type": "stream",
     "text": [
      " 50%|█████     | 5/10 [06:48<09:47, 117.43s/it]"
     ]
    },
    {
     "name": "stdout",
     "output_type": "stream",
     "text": [
      "Reached maximum number of explored states without finding a solution.\n"
     ]
    },
    {
     "name": "stderr",
     "output_type": "stream",
     "text": [
      " 60%|██████    | 6/10 [09:48<09:15, 138.88s/it]"
     ]
    },
    {
     "name": "stdout",
     "output_type": "stream",
     "text": [
      "Reached maximum number of explored states without finding a solution.\n"
     ]
    },
    {
     "name": "stderr",
     "output_type": "stream",
     "text": [
      "100%|██████████| 10/10 [10:30<00:00, 63.01s/it]\n"
     ]
    },
    {
     "name": "stdout",
     "output_type": "stream",
     "text": [
      "Testing 3x3x3 cube with difficulty 10\n"
     ]
    },
    {
     "name": "stderr",
     "output_type": "stream",
     "text": [
      " 20%|██        | 2/10 [03:11<14:53, 111.68s/it]"
     ]
    },
    {
     "name": "stdout",
     "output_type": "stream",
     "text": [
      "Reached maximum number of explored states without finding a solution.\n"
     ]
    },
    {
     "name": "stderr",
     "output_type": "stream",
     "text": [
      "100%|██████████| 10/10 [07:33<00:00, 45.39s/it]\n"
     ]
    },
    {
     "name": "stdout",
     "output_type": "stream",
     "text": [
      "Testing 3x3x3 cube with difficulty 11\n"
     ]
    },
    {
     "name": "stderr",
     "output_type": "stream",
     "text": [
      " 70%|███████   | 7/10 [04:36<03:34, 71.59s/it]"
     ]
    },
    {
     "name": "stdout",
     "output_type": "stream",
     "text": [
      "Reached maximum number of explored states without finding a solution.\n"
     ]
    },
    {
     "name": "stderr",
     "output_type": "stream",
     "text": [
      "100%|██████████| 10/10 [08:21<00:00, 50.11s/it]\n"
     ]
    },
    {
     "name": "stdout",
     "output_type": "stream",
     "text": [
      "Reached maximum number of explored states without finding a solution.\n",
      "Testing 3x3x3 cube with difficulty 12\n"
     ]
    },
    {
     "name": "stderr",
     "output_type": "stream",
     "text": [
      " 10%|█         | 1/10 [03:09<28:25, 189.48s/it]"
     ]
    },
    {
     "name": "stdout",
     "output_type": "stream",
     "text": [
      "Reached maximum number of explored states without finding a solution.\n"
     ]
    },
    {
     "name": "stderr",
     "output_type": "stream",
     "text": [
      " 20%|██        | 2/10 [06:20<25:24, 190.55s/it]"
     ]
    },
    {
     "name": "stdout",
     "output_type": "stream",
     "text": [
      "Reached maximum number of explored states without finding a solution.\n"
     ]
    },
    {
     "name": "stderr",
     "output_type": "stream",
     "text": [
      " 30%|███       | 3/10 [09:27<22:00, 188.58s/it]"
     ]
    },
    {
     "name": "stdout",
     "output_type": "stream",
     "text": [
      "Reached maximum number of explored states without finding a solution.\n"
     ]
    },
    {
     "name": "stderr",
     "output_type": "stream",
     "text": [
      "100%|██████████| 10/10 [12:50<00:00, 77.09s/it]\n"
     ]
    },
    {
     "name": "stdout",
     "output_type": "stream",
     "text": [
      "Testing 3x3x3 cube with difficulty 13\n"
     ]
    },
    {
     "name": "stderr",
     "output_type": "stream",
     "text": [
      " 10%|█         | 1/10 [03:13<28:58, 193.12s/it]"
     ]
    },
    {
     "name": "stdout",
     "output_type": "stream",
     "text": [
      "Reached maximum number of explored states without finding a solution.\n"
     ]
    },
    {
     "name": "stderr",
     "output_type": "stream",
     "text": [
      " 50%|█████     | 5/10 [09:41<09:59, 119.99s/it]"
     ]
    },
    {
     "name": "stdout",
     "output_type": "stream",
     "text": [
      "Reached maximum number of explored states without finding a solution.\n"
     ]
    },
    {
     "name": "stderr",
     "output_type": "stream",
     "text": [
      " 70%|███████   | 7/10 [13:00<05:53, 117.77s/it]"
     ]
    },
    {
     "name": "stdout",
     "output_type": "stream",
     "text": [
      "Reached maximum number of explored states without finding a solution.\n"
     ]
    },
    {
     "name": "stderr",
     "output_type": "stream",
     "text": [
      " 80%|████████  | 8/10 [16:11<04:41, 140.95s/it]"
     ]
    },
    {
     "name": "stdout",
     "output_type": "stream",
     "text": [
      "Reached maximum number of explored states without finding a solution.\n"
     ]
    },
    {
     "name": "stderr",
     "output_type": "stream",
     "text": [
      "100%|██████████| 10/10 [16:34<00:00, 99.48s/it]\n"
     ]
    },
    {
     "name": "stdout",
     "output_type": "stream",
     "text": [
      "Testing 3x3x3 cube with difficulty 14\n"
     ]
    },
    {
     "name": "stderr",
     "output_type": "stream",
     "text": [
      " 10%|█         | 1/10 [03:17<29:37, 197.45s/it]"
     ]
    },
    {
     "name": "stdout",
     "output_type": "stream",
     "text": [
      "Reached maximum number of explored states without finding a solution.\n"
     ]
    },
    {
     "name": "stderr",
     "output_type": "stream",
     "text": [
      " 20%|██        | 2/10 [06:32<26:08, 196.12s/it]"
     ]
    },
    {
     "name": "stdout",
     "output_type": "stream",
     "text": [
      "Reached maximum number of explored states without finding a solution.\n"
     ]
    },
    {
     "name": "stderr",
     "output_type": "stream",
     "text": [
      " 30%|███       | 3/10 [09:48<22:51, 195.93s/it]"
     ]
    },
    {
     "name": "stdout",
     "output_type": "stream",
     "text": [
      "Reached maximum number of explored states without finding a solution.\n"
     ]
    },
    {
     "name": "stderr",
     "output_type": "stream",
     "text": [
      " 40%|████      | 4/10 [13:01<19:29, 194.98s/it]"
     ]
    },
    {
     "name": "stdout",
     "output_type": "stream",
     "text": [
      "Reached maximum number of explored states without finding a solution.\n"
     ]
    },
    {
     "name": "stderr",
     "output_type": "stream",
     "text": [
      " 60%|██████    | 6/10 [16:40<10:17, 154.36s/it]"
     ]
    },
    {
     "name": "stdout",
     "output_type": "stream",
     "text": [
      "Reached maximum number of explored states without finding a solution.\n"
     ]
    },
    {
     "name": "stderr",
     "output_type": "stream",
     "text": [
      " 70%|███████   | 7/10 [19:55<08:23, 167.73s/it]"
     ]
    },
    {
     "name": "stdout",
     "output_type": "stream",
     "text": [
      "Reached maximum number of explored states without finding a solution.\n"
     ]
    },
    {
     "name": "stderr",
     "output_type": "stream",
     "text": [
      "100%|██████████| 10/10 [23:59<00:00, 143.96s/it]"
     ]
    },
    {
     "name": "stdout",
     "output_type": "stream",
     "text": [
      "Reached maximum number of explored states without finding a solution.\n"
     ]
    },
    {
     "name": "stderr",
     "output_type": "stream",
     "text": [
      "\n"
     ]
    },
    {
     "data": {
      "image/png": "[encoded data removed]",
      "text/plain": [
       "<Figure size 1400x600 with 1 Axes>"
      ]
     },
     "metadata": {},
     "output_type": "display_data"
    },
    {
     "data": {
      "image/png": "[encoded data removed]",
      "text/plain": [
       "<Figure size 1400x600 with 1 Axes>"
      ]
     },
     "metadata": {},
     "output_type": "display_data"
    },
    {
     "data": {
      "text/plain": [
       "<Figure size 640x480 with 0 Axes>"
      ]
     },
     "metadata": {},
     "output_type": "display_data"
    }
   ],
   "source": [
    "cube_sizes = [3]\n",
    "cost_to_gos = range(0, 15)\n",
    "env_setup = {\n",
    "    'server_address': '127.0.0.1',\n",
    "    'server_port': 4242,\n",
    "    'animation_enabled': False\n",
    "}\n",
    "solve_rates_3x3x3, move_counts_3x3x3 = test_astar(\n",
    "  model_paths, cube_sizes, cost_to_gos, env_setup)\n",
    "plot_results(solve_rates_3x3x3, move_counts_3x3x3, cost_to_gos)"
   ]
  },
  {
   "cell_type": "code",
   "execution_count": 25,
   "metadata": {},
   "outputs": [
    {
     "name": "stdout",
     "output_type": "stream",
     "text": [
      "{'status': 'initialized'}\n",
      "Testing 4x4x4 cube with difficulty 0\n"
     ]
    },
    {
     "name": "stderr",
     "output_type": "stream",
     "text": [
      "100%|██████████| 10/10 [00:01<00:00,  6.65it/s]\n"
     ]
    },
    {
     "name": "stdout",
     "output_type": "stream",
     "text": [
      "Testing 4x4x4 cube with difficulty 1\n"
     ]
    },
    {
     "name": "stderr",
     "output_type": "stream",
     "text": [
      "100%|██████████| 10/10 [00:11<00:00,  1.18s/it]\n"
     ]
    },
    {
     "name": "stdout",
     "output_type": "stream",
     "text": [
      "Testing 4x4x4 cube with difficulty 2\n"
     ]
    },
    {
     "name": "stderr",
     "output_type": "stream",
     "text": [
      "100%|██████████| 10/10 [00:20<00:00,  2.01s/it]\n"
     ]
    },
    {
     "name": "stdout",
     "output_type": "stream",
     "text": [
      "Testing 4x4x4 cube with difficulty 3\n"
     ]
    },
    {
     "name": "stderr",
     "output_type": "stream",
     "text": [
      "100%|██████████| 10/10 [00:29<00:00,  2.93s/it]\n"
     ]
    },
    {
     "name": "stdout",
     "output_type": "stream",
     "text": [
      "Testing 4x4x4 cube with difficulty 4\n"
     ]
    },
    {
     "name": "stderr",
     "output_type": "stream",
     "text": [
      "100%|██████████| 10/10 [00:41<00:00,  4.17s/it]\n"
     ]
    },
    {
     "name": "stdout",
     "output_type": "stream",
     "text": [
      "Testing 4x4x4 cube with difficulty 5\n"
     ]
    },
    {
     "name": "stderr",
     "output_type": "stream",
     "text": [
      "100%|██████████| 10/10 [00:54<00:00,  5.42s/it]\n"
     ]
    },
    {
     "name": "stdout",
     "output_type": "stream",
     "text": [
      "Testing 4x4x4 cube with difficulty 6\n"
     ]
    },
    {
     "name": "stderr",
     "output_type": "stream",
     "text": [
      "100%|██████████| 10/10 [01:11<00:00,  7.20s/it]\n"
     ]
    },
    {
     "name": "stdout",
     "output_type": "stream",
     "text": [
      "Testing 4x4x4 cube with difficulty 7\n"
     ]
    },
    {
     "name": "stderr",
     "output_type": "stream",
     "text": [
      "100%|██████████| 10/10 [01:41<00:00, 10.18s/it]\n"
     ]
    },
    {
     "name": "stdout",
     "output_type": "stream",
     "text": [
      "Testing 4x4x4 cube with difficulty 8\n"
     ]
    },
    {
     "name": "stderr",
     "output_type": "stream",
     "text": [
      " 50%|█████     | 5/10 [07:15<09:08, 109.61s/it]"
     ]
    },
    {
     "name": "stdout",
     "output_type": "stream",
     "text": [
      "Reached maximum number of explored states without finding a solution.\n"
     ]
    },
    {
     "name": "stderr",
     "output_type": "stream",
     "text": [
      "100%|██████████| 10/10 [09:33<00:00, 57.38s/it]\n"
     ]
    },
    {
     "name": "stdout",
     "output_type": "stream",
     "text": [
      "Testing 4x4x4 cube with difficulty 9\n"
     ]
    },
    {
     "name": "stderr",
     "output_type": "stream",
     "text": [
      " 20%|██        | 2/10 [04:40<20:55, 156.88s/it]"
     ]
    },
    {
     "name": "stdout",
     "output_type": "stream",
     "text": [
      "Reached maximum number of explored states without finding a solution.\n"
     ]
    },
    {
     "name": "stderr",
     "output_type": "stream",
     "text": [
      " 60%|██████    | 6/10 [08:57<07:02, 105.62s/it]"
     ]
    },
    {
     "name": "stdout",
     "output_type": "stream",
     "text": [
      "Reached maximum number of explored states without finding a solution.\n"
     ]
    },
    {
     "name": "stderr",
     "output_type": "stream",
     "text": [
      "100%|██████████| 10/10 [09:28<00:00, 56.87s/it]\n"
     ]
    },
    {
     "name": "stdout",
     "output_type": "stream",
     "text": [
      "Testing 4x4x4 cube with difficulty 10\n"
     ]
    },
    {
     "name": "stderr",
     "output_type": "stream",
     "text": [
      " 20%|██        | 2/10 [04:07<19:10, 143.80s/it]"
     ]
    },
    {
     "name": "stdout",
     "output_type": "stream",
     "text": [
      "Reached maximum number of explored states without finding a solution.\n"
     ]
    },
    {
     "name": "stderr",
     "output_type": "stream",
     "text": [
      " 40%|████      | 4/10 [08:09<14:11, 141.97s/it]"
     ]
    },
    {
     "name": "stdout",
     "output_type": "stream",
     "text": [
      "Reached maximum number of explored states without finding a solution.\n"
     ]
    },
    {
     "name": "stderr",
     "output_type": "stream",
     "text": [
      " 90%|█████████ | 9/10 [13:03<01:42, 102.71s/it]"
     ]
    },
    {
     "name": "stdout",
     "output_type": "stream",
     "text": [
      "Reached maximum number of explored states without finding a solution.\n"
     ]
    },
    {
     "name": "stderr",
     "output_type": "stream",
     "text": [
      "100%|██████████| 10/10 [17:00<00:00, 102.04s/it]\n"
     ]
    },
    {
     "name": "stdout",
     "output_type": "stream",
     "text": [
      "Reached maximum number of explored states without finding a solution.\n",
      "Testing 4x4x4 cube with difficulty 11\n"
     ]
    },
    {
     "name": "stderr",
     "output_type": "stream",
     "text": [
      " 10%|█         | 1/10 [03:59<35:55, 239.45s/it]"
     ]
    },
    {
     "name": "stdout",
     "output_type": "stream",
     "text": [
      "Reached maximum number of explored states without finding a solution.\n"
     ]
    },
    {
     "name": "stderr",
     "output_type": "stream",
     "text": [
      " 30%|███       | 3/10 [09:27<22:23, 191.89s/it]"
     ]
    },
    {
     "name": "stdout",
     "output_type": "stream",
     "text": [
      "Reached maximum number of explored states without finding a solution.\n"
     ]
    },
    {
     "name": "stderr",
     "output_type": "stream",
     "text": [
      " 50%|█████     | 5/10 [13:41<13:43, 164.60s/it]"
     ]
    },
    {
     "name": "stdout",
     "output_type": "stream",
     "text": [
      "Reached maximum number of explored states without finding a solution.\n"
     ]
    },
    {
     "name": "stderr",
     "output_type": "stream",
     "text": [
      " 60%|██████    | 6/10 [17:42<12:43, 190.86s/it]"
     ]
    },
    {
     "name": "stdout",
     "output_type": "stream",
     "text": [
      "Reached maximum number of explored states without finding a solution.\n"
     ]
    },
    {
     "name": "stderr",
     "output_type": "stream",
     "text": [
      " 70%|███████   | 7/10 [21:42<10:20, 206.91s/it]"
     ]
    },
    {
     "name": "stdout",
     "output_type": "stream",
     "text": [
      "Reached maximum number of explored states without finding a solution.\n"
     ]
    },
    {
     "name": "stderr",
     "output_type": "stream",
     "text": [
      "100%|██████████| 10/10 [23:08<00:00, 138.86s/it]\n"
     ]
    },
    {
     "name": "stdout",
     "output_type": "stream",
     "text": [
      "Testing 4x4x4 cube with difficulty 12\n"
     ]
    },
    {
     "name": "stderr",
     "output_type": "stream",
     "text": [
      " 40%|████      | 4/10 [05:08<10:46, 107.70s/it]"
     ]
    },
    {
     "name": "stdout",
     "output_type": "stream",
     "text": [
      "Reached maximum number of explored states without finding a solution.\n"
     ]
    },
    {
     "name": "stderr",
     "output_type": "stream",
     "text": [
      " 50%|█████     | 5/10 [09:20<13:18, 159.73s/it]"
     ]
    },
    {
     "name": "stdout",
     "output_type": "stream",
     "text": [
      "Reached maximum number of explored states without finding a solution.\n"
     ]
    },
    {
     "name": "stderr",
     "output_type": "stream",
     "text": [
      " 70%|███████   | 7/10 [13:32<07:37, 152.45s/it]"
     ]
    },
    {
     "name": "stdout",
     "output_type": "stream",
     "text": [
      "Reached maximum number of explored states without finding a solution.\n"
     ]
    },
    {
     "name": "stderr",
     "output_type": "stream",
     "text": [
      " 90%|█████████ | 9/10 [17:51<02:30, 150.91s/it]"
     ]
    },
    {
     "name": "stdout",
     "output_type": "stream",
     "text": [
      "Reached maximum number of explored states without finding a solution.\n"
     ]
    },
    {
     "name": "stderr",
     "output_type": "stream",
     "text": [
      "100%|██████████| 10/10 [18:13<00:00, 109.38s/it]\n"
     ]
    },
    {
     "name": "stdout",
     "output_type": "stream",
     "text": [
      "Testing 4x4x4 cube with difficulty 13\n"
     ]
    },
    {
     "name": "stderr",
     "output_type": "stream",
     "text": [
      " 40%|████      | 4/10 [06:21<12:43, 127.18s/it]"
     ]
    },
    {
     "name": "stdout",
     "output_type": "stream",
     "text": [
      "Reached maximum number of explored states without finding a solution.\n"
     ]
    },
    {
     "name": "stderr",
     "output_type": "stream",
     "text": [
      " 60%|██████    | 6/10 [10:36<09:17, 139.28s/it]"
     ]
    },
    {
     "name": "stdout",
     "output_type": "stream",
     "text": [
      "Reached maximum number of explored states without finding a solution.\n"
     ]
    },
    {
     "name": "stderr",
     "output_type": "stream",
     "text": [
      " 70%|███████   | 7/10 [14:43<08:43, 174.64s/it]"
     ]
    },
    {
     "name": "stdout",
     "output_type": "stream",
     "text": [
      "Reached maximum number of explored states without finding a solution.\n"
     ]
    },
    {
     "name": "stderr",
     "output_type": "stream",
     "text": [
      "100%|██████████| 10/10 [22:14<00:00, 133.49s/it]\n"
     ]
    },
    {
     "name": "stdout",
     "output_type": "stream",
     "text": [
      "Reached maximum number of explored states without finding a solution.\n",
      "Testing 4x4x4 cube with difficulty 14\n"
     ]
    },
    {
     "name": "stderr",
     "output_type": "stream",
     "text": [
      " 10%|█         | 1/10 [04:08<37:20, 248.90s/it]"
     ]
    },
    {
     "name": "stdout",
     "output_type": "stream",
     "text": [
      "Reached maximum number of explored states without finding a solution.\n"
     ]
    },
    {
     "name": "stderr",
     "output_type": "stream",
     "text": [
      " 30%|███       | 3/10 [12:28<29:06, 249.55s/it]"
     ]
    },
    {
     "name": "stdout",
     "output_type": "stream",
     "text": [
      "Reached maximum number of explored states without finding a solution.\n"
     ]
    },
    {
     "name": "stderr",
     "output_type": "stream",
     "text": [
      " 40%|████      | 4/10 [16:35<24:52, 248.70s/it]"
     ]
    },
    {
     "name": "stdout",
     "output_type": "stream",
     "text": [
      "Reached maximum number of explored states without finding a solution.\n"
     ]
    },
    {
     "name": "stderr",
     "output_type": "stream",
     "text": [
      " 50%|█████     | 5/10 [20:45<20:44, 248.97s/it]"
     ]
    },
    {
     "name": "stdout",
     "output_type": "stream",
     "text": [
      "Reached maximum number of explored states without finding a solution.\n"
     ]
    },
    {
     "name": "stderr",
     "output_type": "stream",
     "text": [
      " 60%|██████    | 6/10 [24:54<16:36, 249.15s/it]"
     ]
    },
    {
     "name": "stdout",
     "output_type": "stream",
     "text": [
      "Reached maximum number of explored states without finding a solution.\n"
     ]
    },
    {
     "name": "stderr",
     "output_type": "stream",
     "text": [
      " 70%|███████   | 7/10 [29:04<12:28, 249.42s/it]"
     ]
    },
    {
     "name": "stdout",
     "output_type": "stream",
     "text": [
      "Reached maximum number of explored states without finding a solution.\n"
     ]
    },
    {
     "name": "stderr",
     "output_type": "stream",
     "text": [
      "100%|██████████| 10/10 [32:07<00:00, 192.79s/it]\n"
     ]
    },
    {
     "data": {
      "image/png": "[encoded data removed]",
      "text/plain": [
       "<Figure size 1400x600 with 1 Axes>"
      ]
     },
     "metadata": {},
     "output_type": "display_data"
    },
    {
     "data": {
      "image/png": "[encoded data removed]",
      "text/plain": [
       "<Figure size 1400x600 with 1 Axes>"
      ]
     },
     "metadata": {},
     "output_type": "display_data"
    },
    {
     "data": {
      "text/plain": [
       "<Figure size 640x480 with 0 Axes>"
      ]
     },
     "metadata": {},
     "output_type": "display_data"
    }
   ],
   "source": [
    "cube_sizes = [4]\n",
    "cost_to_gos = range(0, 15)\n",
    "env_setup = {\n",
    "    'server_address': '127.0.0.1',\n",
    "    'server_port': 4242,\n",
    "    'animation_enabled': False\n",
    "}\n",
    "solve_rates_4x4x4, move_counts_4x4x4 = test_astar(\n",
    "  model_paths, cube_sizes, cost_to_gos, env_setup)\n",
    "plot_results(solve_rates_4x4x4, move_counts_4x4x4, cost_to_gos)"
   ]
  },
  {
   "cell_type": "code",
   "execution_count": 30,
   "metadata": {},
   "outputs": [
    {
     "data": {
      "image/png": "[encoded data removed]",
      "text/plain": [
       "<Figure size 1400x600 with 1 Axes>"
      ]
     },
     "metadata": {},
     "output_type": "display_data"
    },
    {
     "data": {
      "image/png": "[encoded data removed]",
      "text/plain": [
       "<Figure size 1400x600 with 1 Axes>"
      ]
     },
     "metadata": {},
     "output_type": "display_data"
    },
    {
     "data": {
      "text/plain": [
       "<Figure size 640x480 with 0 Axes>"
      ]
     },
     "metadata": {},
     "output_type": "display_data"
    }
   ],
   "source": [
    "combined_solve_rates = {\n",
    "    '2': solve_rates_2x2x2[2],\n",
    "    '3': solve_rates_3x3x3[3],\n",
    "    '4': solve_rates_4x4x4[4]\n",
    "}\n",
    "\n",
    "combined_move_counts = {\n",
    "    '2': move_counts_2x2x2[2],\n",
    "    '3': move_counts_3x3x3[3],\n",
    "    '4': move_counts_4x4x4[4]\n",
    "}\n",
    "\n",
    "combined_costs_to_go = list(range(0, 15))\n",
    "\n",
    "plot_results(combined_solve_rates, combined_move_counts, combined_costs_to_go)"
   ]
  },
  {
   "cell_type": "code",
   "execution_count": 27,
   "metadata": {},
   "outputs": [
    {
     "data": {
      "text/plain": [
       "{'2': [1.0, 1.0, 1.0, 1.0, 1.0, 1.0, 1.0, 1.0, 1.0, 1.0, 1.0, 1.0],\n",
       " '3': [1.0,\n",
       "  1.0,\n",
       "  1.0,\n",
       "  1.0,\n",
       "  1.0,\n",
       "  1.0,\n",
       "  1.0,\n",
       "  1.0,\n",
       "  0.9,\n",
       "  0.7,\n",
       "  0.9,\n",
       "  0.8,\n",
       "  0.7,\n",
       "  0.6,\n",
       "  0.3],\n",
       " '4': [1.0,\n",
       "  1.0,\n",
       "  1.0,\n",
       "  1.0,\n",
       "  1.0,\n",
       "  1.0,\n",
       "  1.0,\n",
       "  1.0,\n",
       "  0.9,\n",
       "  0.8,\n",
       "  0.6,\n",
       "  0.5,\n",
       "  0.6,\n",
       "  0.6,\n",
       "  0.4]}"
      ]
     },
     "execution_count": 27,
     "metadata": {},
     "output_type": "execute_result"
    }
   ],
   "source": [
    "combined_solve_rates"
   ]
  },
  {
   "cell_type": "code",
   "execution_count": 28,
   "metadata": {},
   "outputs": [
    {
     "data": {
      "text/plain": [
       "{'2': [0.0, 1.0, 1.8, 2.2, 3.0, 2.8, 4.4, 5.6, 5.0, 5.4, 6.0, 6.6],\n",
       " '3': [0.0,\n",
       "  1.0,\n",
       "  1.8,\n",
       "  2.6,\n",
       "  3.4,\n",
       "  4.2,\n",
       "  5.0,\n",
       "  4.7,\n",
       "  6.0,\n",
       "  7.0,\n",
       "  7.777777777777778,\n",
       "  8.0,\n",
       "  8.857142857142858,\n",
       "  8.333333333333334,\n",
       "  8.666666666666666],\n",
       " '4': [0.0,\n",
       "  1.0,\n",
       "  1.8,\n",
       "  2.6,\n",
       "  3.6,\n",
       "  4.4,\n",
       "  5.6,\n",
       "  6.0,\n",
       "  6.888888888888889,\n",
       "  6.0,\n",
       "  7.666666666666667,\n",
       "  9.4,\n",
       "  8.0,\n",
       "  10.0,\n",
       "  10.0]}"
      ]
     },
     "execution_count": 28,
     "metadata": {},
     "output_type": "execute_result"
    }
   ],
   "source": [
    "combined_move_counts"
   ]
  },
  {
   "cell_type": "code",
   "execution_count": null,
   "metadata": {},
   "outputs": [],
   "source": []
  }
 ],
 "metadata": {
  "kernelspec": {
   "display_name": "venv",
   "language": "python",
   "name": "python3"
  },
  "language_info": {
   "codemirror_mode": {
    "name": "ipython",
    "version": 3
   },
   "file_extension": ".py",
   "mimetype": "text/x-python",
   "name": "python",
   "nbconvert_exporter": "python",
   "pygments_lexer": "ipython3",
   "version": "3.11.8"
  }
 },
 "nbformat": 4,
 "nbformat_minor": 2
}
